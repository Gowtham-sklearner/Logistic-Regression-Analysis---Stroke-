{
 "cells": [
  {
   "cell_type": "markdown",
   "metadata": {},
   "source": [
    "The **stroke.csv** contains data around one of the critical diseases \"Stroke\". Stroke is a disease that affects the arteries leading to and within the brain. several health, demographic and lifestyle details about its patients.<br>\n",
    "A stroke occurs when a blood vessel that carries oxygen and nutrients to the brain is either blocked by a clot or bursts (or ruptures). When that happens, part of the brain cannot get the blood (and oxygen) it needs, so it and brain cells die.<br>\n",
    "Over the last few years, data has been captured for several health, demographic and lifestyle details of patients. This includes details such as age and gender, along with several health parameters (e.g. hypertension, body mass index) and lifestyle related variables (e.g. smoking status, occupation type).<br>\n",
    "Early identification and treatment of the most common type of stroke, ischemic stroke, can limit brain damage and vastly improve outcomes. Stroke prevention is also possible if patients with a high propensity are identified early. <br>\n",
    "**stroke.csv** includes attributes for chance of stroke. For binary variables, 1 means yes, 0 means no. The data contains the following fields:<br>\n",
    "\n",
    "* id: Patient ID\n",
    "* gender: Gender of Patient\n",
    "* age: Age of Patient\n",
    "* hypertension: Patient suffering from hypertension?\n",
    "* heart_disease: Patient suffering from heart disease?\n",
    "* ever_married: Yes/No\n",
    "* work_type: Type of occupation\n",
    "* Residence_type: Area type of residence (Urban/ Rural)\n",
    "* avg_glucose_level: Average Glucose level (measured after meal)\n",
    "* bmi: Body mass index\n",
    "* smoking_status: patient's smoking status\n",
    "* stroke: Patient suffered from stroke?"
   ]
  },
  {
   "cell_type": "code",
   "execution_count": 1,
   "metadata": {},
   "outputs": [],
   "source": [
    "import pandas as pd\n",
    "import numpy as np\n",
    "\n",
    "import matplotlib.pyplot as plt\n",
    "import seaborn as sns\n",
    "\n",
    "# To enable plotting graphs in Jupyter notebook\n",
    "%matplotlib inline\n",
    "\n",
    "#Sklearn package's data splitting function which is based on random function\n",
    "from sklearn.model_selection import train_test_split\n",
    "\n",
    "#For logistic Regression model\n",
    "from sklearn.linear_model import LogisticRegression\n",
    "import statsmodels.api as sm\n",
    "\n",
    "# calculate accuracy measures and confusion matrix\n",
    "from sklearn import metrics\n",
    "\n",
    "import warnings\n",
    "warnings.filterwarnings(\"ignore\")"
   ]
  },
  {
   "cell_type": "code",
   "execution_count": 2,
   "metadata": {},
   "outputs": [],
   "source": [
    "# Read the csv file as a dataframe\n",
    "df1 = pd.read_csv('stroke.csv')"
   ]
  },
  {
   "cell_type": "code",
   "execution_count": 3,
   "metadata": {
    "scrolled": true
   },
   "outputs": [
    {
     "data": {
      "text/html": [
       "<div>\n",
       "<style scoped>\n",
       "    .dataframe tbody tr th:only-of-type {\n",
       "        vertical-align: middle;\n",
       "    }\n",
       "\n",
       "    .dataframe tbody tr th {\n",
       "        vertical-align: top;\n",
       "    }\n",
       "\n",
       "    .dataframe thead th {\n",
       "        text-align: right;\n",
       "    }\n",
       "</style>\n",
       "<table border=\"1\" class=\"dataframe\">\n",
       "  <thead>\n",
       "    <tr style=\"text-align: right;\">\n",
       "      <th></th>\n",
       "      <th>gender</th>\n",
       "      <th>age</th>\n",
       "      <th>hypertension</th>\n",
       "      <th>heart_disease</th>\n",
       "      <th>ever_married</th>\n",
       "      <th>work_type</th>\n",
       "      <th>Residence_type</th>\n",
       "      <th>avg_glucose_level</th>\n",
       "      <th>bmi</th>\n",
       "      <th>smoking_status</th>\n",
       "      <th>stroke</th>\n",
       "    </tr>\n",
       "  </thead>\n",
       "  <tbody>\n",
       "    <tr>\n",
       "      <td>0</td>\n",
       "      <td>Male</td>\n",
       "      <td>3</td>\n",
       "      <td>N</td>\n",
       "      <td>N</td>\n",
       "      <td>No</td>\n",
       "      <td>children</td>\n",
       "      <td>Rural</td>\n",
       "      <td>95.12</td>\n",
       "      <td>18.0</td>\n",
       "      <td>never smoked</td>\n",
       "      <td>0</td>\n",
       "    </tr>\n",
       "    <tr>\n",
       "      <td>1</td>\n",
       "      <td>Male</td>\n",
       "      <td>58</td>\n",
       "      <td>Y</td>\n",
       "      <td>N</td>\n",
       "      <td>Yes</td>\n",
       "      <td>Private</td>\n",
       "      <td>Urban</td>\n",
       "      <td>255.00</td>\n",
       "      <td>39.2</td>\n",
       "      <td>never smoked</td>\n",
       "      <td>1</td>\n",
       "    </tr>\n",
       "    <tr>\n",
       "      <td>2</td>\n",
       "      <td>Female</td>\n",
       "      <td>70</td>\n",
       "      <td>N</td>\n",
       "      <td>N</td>\n",
       "      <td>Yes</td>\n",
       "      <td>Private</td>\n",
       "      <td>Rural</td>\n",
       "      <td>69.04</td>\n",
       "      <td>35.9</td>\n",
       "      <td>formerly smoked</td>\n",
       "      <td>0</td>\n",
       "    </tr>\n",
       "    <tr>\n",
       "      <td>3</td>\n",
       "      <td>Female</td>\n",
       "      <td>52</td>\n",
       "      <td>N</td>\n",
       "      <td>N</td>\n",
       "      <td>Yes</td>\n",
       "      <td>Private</td>\n",
       "      <td>Urban</td>\n",
       "      <td>77.59</td>\n",
       "      <td>17.7</td>\n",
       "      <td>formerly smoked</td>\n",
       "      <td>0</td>\n",
       "    </tr>\n",
       "    <tr>\n",
       "      <td>4</td>\n",
       "      <td>Female</td>\n",
       "      <td>75</td>\n",
       "      <td>N</td>\n",
       "      <td>Y</td>\n",
       "      <td>Yes</td>\n",
       "      <td>Self-employed</td>\n",
       "      <td>Rural</td>\n",
       "      <td>103.00</td>\n",
       "      <td>27.0</td>\n",
       "      <td>never smoked</td>\n",
       "      <td>0</td>\n",
       "    </tr>\n",
       "  </tbody>\n",
       "</table>\n",
       "</div>"
      ],
      "text/plain": [
       "   gender  age hypertension heart_disease ever_married      work_type  \\\n",
       "0    Male    3            N             N           No       children   \n",
       "1    Male   58            Y             N          Yes        Private   \n",
       "2  Female   70            N             N          Yes        Private   \n",
       "3  Female   52            N             N          Yes        Private   \n",
       "4  Female   75            N             Y          Yes  Self-employed   \n",
       "\n",
       "  Residence_type  avg_glucose_level   bmi   smoking_status  stroke  \n",
       "0          Rural              95.12  18.0     never smoked       0  \n",
       "1          Urban             255.00  39.2     never smoked       1  \n",
       "2          Rural              69.04  35.9  formerly smoked       0  \n",
       "3          Urban              77.59  17.7  formerly smoked       0  \n",
       "4          Rural             103.00  27.0     never smoked       0  "
      ]
     },
     "execution_count": 3,
     "metadata": {},
     "output_type": "execute_result"
    }
   ],
   "source": [
    "df1.head()"
   ]
  },
  {
   "cell_type": "code",
   "execution_count": 4,
   "metadata": {},
   "outputs": [
    {
     "name": "stdout",
     "output_type": "stream",
     "text": [
      "<class 'pandas.core.frame.DataFrame'>\n",
      "RangeIndex: 29073 entries, 0 to 29072\n",
      "Data columns (total 11 columns):\n",
      "gender               29073 non-null object\n",
      "age                  29073 non-null int64\n",
      "hypertension         29073 non-null object\n",
      "heart_disease        29073 non-null object\n",
      "ever_married         29073 non-null object\n",
      "work_type            29073 non-null object\n",
      "Residence_type       29073 non-null object\n",
      "avg_glucose_level    29073 non-null float64\n",
      "bmi                  29073 non-null float64\n",
      "smoking_status       29073 non-null object\n",
      "stroke               29073 non-null int64\n",
      "dtypes: float64(2), int64(2), object(7)\n",
      "memory usage: 2.4+ MB\n"
     ]
    }
   ],
   "source": [
    "df1.info()"
   ]
  },
  {
   "cell_type": "markdown",
   "metadata": {},
   "source": [
    "## Exploratory data analysis (EDA)"
   ]
  },
  {
   "cell_type": "code",
   "execution_count": 5,
   "metadata": {},
   "outputs": [
    {
     "data": {
      "text/plain": [
       "0    0.828294\n",
       "1    0.171706\n",
       "Name: stroke, dtype: float64"
      ]
     },
     "execution_count": 5,
     "metadata": {},
     "output_type": "execute_result"
    }
   ],
   "source": [
    "#Check for class imbalance of the Y variable\n",
    "\n",
    "df1['stroke'].value_counts(normalize=True)\n"
   ]
  },
  {
   "cell_type": "markdown",
   "metadata": {},
   "source": [
    "* Most of the patients do not have stroke\n",
    "* The ratio is almost 1:2 in favor or class 0\n",
    "* The model's ability to predict class 0 will be better than predicting class 1."
   ]
  },
  {
   "cell_type": "markdown",
   "metadata": {},
   "source": [
    "### Univariate Analysis"
   ]
  },
  {
   "cell_type": "code",
   "execution_count": 6,
   "metadata": {},
   "outputs": [
    {
     "data": {
      "text/plain": [
       "count    29073.000000\n",
       "mean        47.670209\n",
       "std         18.736000\n",
       "min          3.000000\n",
       "25%         32.000000\n",
       "50%         48.000000\n",
       "75%         62.000000\n",
       "max         82.000000\n",
       "Name: age, dtype: float64"
      ]
     },
     "execution_count": 6,
     "metadata": {},
     "output_type": "execute_result"
    }
   ],
   "source": [
    "# Summary of age variable\n",
    "df1['age'].describe()"
   ]
  },
  {
   "cell_type": "code",
   "execution_count": 7,
   "metadata": {},
   "outputs": [
    {
     "data": {
      "text/plain": [
       "count    29073.000000\n",
       "mean       115.907356\n",
       "std         56.764586\n",
       "min         55.010000\n",
       "25%         80.360000\n",
       "50%         98.500000\n",
       "75%        118.000000\n",
       "max        281.590000\n",
       "Name: avg_glucose_level, dtype: float64"
      ]
     },
     "execution_count": 7,
     "metadata": {},
     "output_type": "execute_result"
    }
   ],
   "source": [
    "# Summary of avg_glucose_level variable\n",
    "df1['avg_glucose_level'].describe()"
   ]
  },
  {
   "cell_type": "code",
   "execution_count": 8,
   "metadata": {},
   "outputs": [
    {
     "data": {
      "text/plain": [
       "count    29073.000000\n",
       "mean        29.585285\n",
       "std          8.356899\n",
       "min          0.000000\n",
       "25%         25.000000\n",
       "50%         28.900000\n",
       "75%         33.900000\n",
       "max         92.000000\n",
       "Name: bmi, dtype: float64"
      ]
     },
     "execution_count": 8,
     "metadata": {},
     "output_type": "execute_result"
    }
   ],
   "source": [
    "# Summary of bmi variable\n",
    "df1['bmi'].describe()"
   ]
  },
  {
   "cell_type": "code",
   "execution_count": 9,
   "metadata": {},
   "outputs": [
    {
     "data": {
      "image/png": "[encoded data removed]",
      "text/plain": [
       "<Figure size 432x288 with 1 Axes>"
      ]
     },
     "metadata": {
      "needs_background": "light"
     },
     "output_type": "display_data"
    }
   ],
   "source": [
    "# Histogram for age \n",
    "sns.distplot(df1['age'],\n",
    "             bins = 10, \n",
    "             kde = False);"
   ]
  },
  {
   "cell_type": "markdown",
   "metadata": {},
   "source": [
    "#### The Age of Patient(age) is mostly between 18 to 65."
   ]
  },
  {
   "cell_type": "code",
   "execution_count": 10,
   "metadata": {},
   "outputs": [
    {
     "data": {
      "image/png": "[encoded data removed]",
      "text/plain": [
       "<Figure size 432x288 with 1 Axes>"
      ]
     },
     "metadata": {
      "needs_background": "light"
     },
     "output_type": "display_data"
    }
   ],
   "source": [
    "# Histogram for avg_glucose_level \n",
    "sns.distplot(df1['avg_glucose_level'],\n",
    "             bins = 10, \n",
    "             kde = False);"
   ]
  },
  {
   "cell_type": "markdown",
   "metadata": {},
   "source": [
    "#### The Average Glucose level (measured after meal)(avg_glucose_level) is mostly between 56 to 120."
   ]
  },
  {
   "cell_type": "code",
   "execution_count": 11,
   "metadata": {},
   "outputs": [
    {
     "data": {
      "image/png": "[encoded data removed]",
      "text/plain": [
       "<Figure size 432x288 with 1 Axes>"
      ]
     },
     "metadata": {
      "needs_background": "light"
     },
     "output_type": "display_data"
    }
   ],
   "source": [
    "# Histogram for bmi \n",
    "sns.distplot(df1['bmi'],\n",
    "             bins = 10, \n",
    "             kde = False);"
   ]
  },
  {
   "cell_type": "markdown",
   "metadata": {},
   "source": [
    "#### The Body mass index(bmi) is mostly between 19 to 34."
   ]
  },
  {
   "cell_type": "code",
   "execution_count": 12,
   "metadata": {},
   "outputs": [
    {
     "data": {
      "image/png": "[encoded data removed]",
      "text/plain": [
       "<Figure size 432x288 with 1 Axes>"
      ]
     },
     "metadata": {
      "needs_background": "light"
     },
     "output_type": "display_data"
    }
   ],
   "source": [
    "# Boxplot for age\n",
    "sns.boxplot(y = df1['age']);"
   ]
  },
  {
   "cell_type": "markdown",
   "metadata": {},
   "source": [
    "#### The median Age of Patient(age) is 47."
   ]
  },
  {
   "cell_type": "code",
   "execution_count": 13,
   "metadata": {
    "scrolled": true
   },
   "outputs": [
    {
     "data": {
      "image/png": "[encoded data removed]",
      "text/plain": [
       "<Figure size 432x288 with 1 Axes>"
      ]
     },
     "metadata": {
      "needs_background": "light"
     },
     "output_type": "display_data"
    }
   ],
   "source": [
    "# Boxplot for avg_glucose_level\n",
    "sns.boxplot(y = df1['avg_glucose_level']);"
   ]
  },
  {
   "cell_type": "markdown",
   "metadata": {},
   "source": [
    "#### The median Glucose level (measured after meal)(avg_glucose_level) is 91."
   ]
  },
  {
   "cell_type": "code",
   "execution_count": 14,
   "metadata": {},
   "outputs": [
    {
     "data": {
      "image/png": "[encoded data removed]",
      "text/plain": [
       "<Figure size 432x288 with 1 Axes>"
      ]
     },
     "metadata": {
      "needs_background": "light"
     },
     "output_type": "display_data"
    }
   ],
   "source": [
    "# Boxplot for bmi\n",
    "sns.boxplot(y = df1['bmi']);"
   ]
  },
  {
   "cell_type": "markdown",
   "metadata": {},
   "source": [
    "#### The median Body mass index(bmi) is 26."
   ]
  },
  {
   "cell_type": "code",
   "execution_count": 15,
   "metadata": {},
   "outputs": [
    {
     "data": {
      "text/plain": [
       "Female    17856\n",
       "Male      11217\n",
       "Name: gender, dtype: int64"
      ]
     },
     "execution_count": 15,
     "metadata": {},
     "output_type": "execute_result"
    }
   ],
   "source": [
    "df1['gender'].value_counts()"
   ]
  },
  {
   "cell_type": "code",
   "execution_count": 16,
   "metadata": {
    "scrolled": true
   },
   "outputs": [
    {
     "data": {
      "image/png": "[encoded data removed]",
      "text/plain": [
       "<Figure size 432x288 with 1 Axes>"
      ]
     },
     "metadata": {
      "needs_background": "light"
     },
     "output_type": "display_data"
    }
   ],
   "source": [
    "# Countplot for gender\n",
    "sns.countplot( x = df1['gender']);"
   ]
  },
  {
   "cell_type": "markdown",
   "metadata": {},
   "source": [
    "#### The number of female patients(gender) is higher than the number of male patients."
   ]
  },
  {
   "cell_type": "code",
   "execution_count": 17,
   "metadata": {
    "scrolled": true
   },
   "outputs": [
    {
     "data": {
      "text/plain": [
       "N    25832\n",
       "Y     3241\n",
       "Name: hypertension, dtype: int64"
      ]
     },
     "execution_count": 17,
     "metadata": {},
     "output_type": "execute_result"
    }
   ],
   "source": [
    "df1['hypertension'].value_counts()"
   ]
  },
  {
   "cell_type": "code",
   "execution_count": 18,
   "metadata": {},
   "outputs": [
    {
     "data": {
      "image/png": "[encoded data removed]",
      "text/plain": [
       "<Figure size 432x288 with 1 Axes>"
      ]
     },
     "metadata": {
      "needs_background": "light"
     },
     "output_type": "display_data"
    }
   ],
   "source": [
    "# Countplot for hypertension\n",
    "sns.countplot( x = df1['hypertension']);"
   ]
  },
  {
   "cell_type": "markdown",
   "metadata": {},
   "source": [
    "#### The patient suffering from hypertension(hypertension)is lesser than the patient does not suffer from hypertension."
   ]
  },
  {
   "cell_type": "code",
   "execution_count": 19,
   "metadata": {},
   "outputs": [
    {
     "data": {
      "text/plain": [
       "N    25310\n",
       "Y     3763\n",
       "Name: heart_disease, dtype: int64"
      ]
     },
     "execution_count": 19,
     "metadata": {},
     "output_type": "execute_result"
    }
   ],
   "source": [
    "df1['heart_disease'].value_counts()"
   ]
  },
  {
   "cell_type": "code",
   "execution_count": 20,
   "metadata": {},
   "outputs": [
    {
     "data": {
      "image/png": "[encoded data removed]",
      "text/plain": [
       "<Figure size 432x288 with 1 Axes>"
      ]
     },
     "metadata": {
      "needs_background": "light"
     },
     "output_type": "display_data"
    }
   ],
   "source": [
    "# Countplot for heart_disease\n",
    "sns.countplot( x = df1['heart_disease']);"
   ]
  },
  {
   "cell_type": "markdown",
   "metadata": {},
   "source": [
    "#### The patient suffering from heart disease(heart_disease) is lesser than the patient does not suffer from heart disease."
   ]
  },
  {
   "cell_type": "code",
   "execution_count": 21,
   "metadata": {},
   "outputs": [
    {
     "data": {
      "text/plain": [
       "Yes    21690\n",
       "No      7383\n",
       "Name: ever_married, dtype: int64"
      ]
     },
     "execution_count": 21,
     "metadata": {},
     "output_type": "execute_result"
    }
   ],
   "source": [
    "df1['ever_married'].value_counts()"
   ]
  },
  {
   "cell_type": "code",
   "execution_count": 22,
   "metadata": {},
   "outputs": [
    {
     "data": {
      "image/png": "[encoded data removed]",
      "text/plain": [
       "<Figure size 432x288 with 1 Axes>"
      ]
     },
     "metadata": {
      "needs_background": "light"
     },
     "output_type": "display_data"
    }
   ],
   "source": [
    "# Countplot for ever_married\n",
    "sns.countplot( x = df1['ever_married']);"
   ]
  },
  {
   "cell_type": "markdown",
   "metadata": {},
   "source": [
    "#### The number of patients who are married is higher than the number of patients who were not married."
   ]
  },
  {
   "cell_type": "code",
   "execution_count": 23,
   "metadata": {},
   "outputs": [
    {
     "data": {
      "text/plain": [
       "Private          18954\n",
       "Self-employed     5204\n",
       "Govt_job          4196\n",
       "children           618\n",
       "Never_worked       101\n",
       "Name: work_type, dtype: int64"
      ]
     },
     "execution_count": 23,
     "metadata": {},
     "output_type": "execute_result"
    }
   ],
   "source": [
    "df1['work_type'].value_counts()"
   ]
  },
  {
   "cell_type": "code",
   "execution_count": 24,
   "metadata": {},
   "outputs": [
    {
     "data": {
      "image/png": "[encoded data removed]",
      "text/plain": [
       "<Figure size 432x288 with 1 Axes>"
      ]
     },
     "metadata": {
      "needs_background": "light"
     },
     "output_type": "display_data"
    }
   ],
   "source": [
    "# Countplot for work_type\n",
    "sns.countplot( x = df1['work_type']);"
   ]
  },
  {
   "cell_type": "markdown",
   "metadata": {},
   "source": [
    "#### The number of patients working for private is higher than the number of self-employed patients."
   ]
  },
  {
   "cell_type": "code",
   "execution_count": 25,
   "metadata": {},
   "outputs": [
    {
     "data": {
      "text/plain": [
       "Urban    14595\n",
       "Rural    14478\n",
       "Name: Residence_type, dtype: int64"
      ]
     },
     "execution_count": 25,
     "metadata": {},
     "output_type": "execute_result"
    }
   ],
   "source": [
    "df1['Residence_type'].value_counts()"
   ]
  },
  {
   "cell_type": "code",
   "execution_count": 26,
   "metadata": {},
   "outputs": [
    {
     "data": {
      "image/png": "[encoded data removed]",
      "text/plain": [
       "<Figure size 432x288 with 1 Axes>"
      ]
     },
     "metadata": {
      "needs_background": "light"
     },
     "output_type": "display_data"
    }
   ],
   "source": [
    "# Countplot for Residence_type\n",
    "sns.countplot( x = df1['Residence_type']);"
   ]
  },
  {
   "cell_type": "markdown",
   "metadata": {},
   "source": [
    "#### The number of patients from urban and rural is almost the same."
   ]
  },
  {
   "cell_type": "code",
   "execution_count": 27,
   "metadata": {},
   "outputs": [
    {
     "data": {
      "text/plain": [
       "never smoked       15748\n",
       "formerly smoked     7099\n",
       "smokes              6226\n",
       "Name: smoking_status, dtype: int64"
      ]
     },
     "execution_count": 27,
     "metadata": {},
     "output_type": "execute_result"
    }
   ],
   "source": [
    "df1['smoking_status'].value_counts()"
   ]
  },
  {
   "cell_type": "code",
   "execution_count": 28,
   "metadata": {},
   "outputs": [
    {
     "data": {
      "image/png": "[encoded data removed]",
      "text/plain": [
       "<Figure size 432x288 with 1 Axes>"
      ]
     },
     "metadata": {
      "needs_background": "light"
     },
     "output_type": "display_data"
    }
   ],
   "source": [
    "# Countplot for smoking_status\n",
    "sns.countplot( x = df1['smoking_status']);"
   ]
  },
  {
   "cell_type": "markdown",
   "metadata": {},
   "source": [
    "#### The number of patients who never smoked is higher than the number of patients who were formerly smoked and smokes."
   ]
  },
  {
   "cell_type": "code",
   "execution_count": 29,
   "metadata": {
    "scrolled": true
   },
   "outputs": [
    {
     "data": {
      "text/plain": [
       "0    24081\n",
       "1     4992\n",
       "Name: stroke, dtype: int64"
      ]
     },
     "execution_count": 29,
     "metadata": {},
     "output_type": "execute_result"
    }
   ],
   "source": [
    "df1['stroke'].value_counts()"
   ]
  },
  {
   "cell_type": "code",
   "execution_count": 30,
   "metadata": {},
   "outputs": [
    {
     "data": {
      "image/png": "[encoded data removed]",
      "text/plain": [
       "<Figure size 432x288 with 1 Axes>"
      ]
     },
     "metadata": {
      "needs_background": "light"
     },
     "output_type": "display_data"
    }
   ],
   "source": [
    "# Countplot for stroke\n",
    "sns.countplot( x = df1['stroke']);"
   ]
  },
  {
   "cell_type": "markdown",
   "metadata": {},
   "source": [
    "#### The number of patients who don't have a stroke is higher than the number of patients who have a stroke."
   ]
  },
  {
   "cell_type": "code",
   "execution_count": 31,
   "metadata": {},
   "outputs": [
    {
     "data": {
      "image/png": "[encoded data removed]",
      "text/plain": [
       "<Figure size 432x288 with 1 Axes>"
      ]
     },
     "metadata": {
      "needs_background": "light"
     },
     "output_type": "display_data"
    }
   ],
   "source": [
    "# Paired boxplot of stroke vs age\n",
    "sns.boxplot(x = 'stroke', \n",
    "            y = 'age',\n",
    "            data = df1);"
   ]
  },
  {
   "cell_type": "markdown",
   "metadata": {},
   "source": [
    "#### The median age of patients who have stroke is higher than the median age of patients who don't have stroke"
   ]
  },
  {
   "cell_type": "code",
   "execution_count": 32,
   "metadata": {},
   "outputs": [
    {
     "data": {
      "image/png": "[encoded data removed]",
      "text/plain": [
       "<Figure size 432x288 with 1 Axes>"
      ]
     },
     "metadata": {
      "needs_background": "light"
     },
     "output_type": "display_data"
    }
   ],
   "source": [
    "# Paired boxplot of stroke vs avg_glucose_level\n",
    "sns.boxplot(x = 'stroke', \n",
    "            y = 'avg_glucose_level',\n",
    "            data = df1);"
   ]
  },
  {
   "cell_type": "markdown",
   "metadata": {},
   "source": [
    "#### The median Average Glucose level (measured after meal)(avg_glucose_level) of patients who have stroke is higher than the median Average Glucose level (measured after meal)(avg_glucose_level) of patients who don't have stroke"
   ]
  },
  {
   "cell_type": "code",
   "execution_count": 33,
   "metadata": {},
   "outputs": [
    {
     "data": {
      "image/png": "[encoded data removed]",
      "text/plain": [
       "<Figure size 432x288 with 1 Axes>"
      ]
     },
     "metadata": {
      "needs_background": "light"
     },
     "output_type": "display_data"
    }
   ],
   "source": [
    "# Paired boxplot of stroke vs bmi\n",
    "sns.boxplot(x = 'stroke', \n",
    "            y = 'bmi',\n",
    "            data = df1);"
   ]
  },
  {
   "cell_type": "markdown",
   "metadata": {},
   "source": [
    "#### The median Body Mass Index(bmi) of patients who have stroke is slightly higher than the median Body Mass Index(bmi) of patients of patients who don't have stroke"
   ]
  },
  {
   "cell_type": "code",
   "execution_count": 34,
   "metadata": {},
   "outputs": [
    {
     "data": {
      "image/png": "[encoded data removed]",
      "text/plain": [
       "<Figure size 432x288 with 1 Axes>"
      ]
     },
     "metadata": {
      "needs_background": "light"
     },
     "output_type": "display_data"
    }
   ],
   "source": [
    "# Stacked Bar plot for stroke vs gender\n",
    "pd.crosstab(df1['stroke'], \n",
    "            df1['gender'], \n",
    "            normalize='index').plot(kind='bar', stacked=True);"
   ]
  },
  {
   "cell_type": "markdown",
   "metadata": {},
   "source": [
    "#### The number of female patients who have stroke is slightly higher than the number of male patients who don't have stroke"
   ]
  },
  {
   "cell_type": "code",
   "execution_count": 35,
   "metadata": {},
   "outputs": [
    {
     "data": {
      "image/png": "[encoded data removed]",
      "text/plain": [
       "<Figure size 432x288 with 1 Axes>"
      ]
     },
     "metadata": {
      "needs_background": "light"
     },
     "output_type": "display_data"
    }
   ],
   "source": [
    "# Stacked Bar plot for stroke vs hypertension\n",
    "pd.crosstab(df1['stroke'], \n",
    "            df1['hypertension'], \n",
    "            normalize='index').plot(kind='bar', stacked=True);"
   ]
  },
  {
   "cell_type": "markdown",
   "metadata": {},
   "source": [
    "#### The number of patients with hypertension has higher chance to get stroke compared to the number of patients without hypertension."
   ]
  },
  {
   "cell_type": "code",
   "execution_count": 36,
   "metadata": {},
   "outputs": [
    {
     "data": {
      "image/png": "[encoded data removed]",
      "text/plain": [
       "<Figure size 432x288 with 1 Axes>"
      ]
     },
     "metadata": {
      "needs_background": "light"
     },
     "output_type": "display_data"
    }
   ],
   "source": [
    "# Stacked Bar plot for stroke vs heart_disease\n",
    "pd.crosstab(df1['stroke'], \n",
    "            df1['heart_disease'], \n",
    "            normalize='index').plot(kind='bar', stacked=True);"
   ]
  },
  {
   "cell_type": "markdown",
   "metadata": {},
   "source": [
    "#### The number of patients with heart disease has a higher chance to get stroke compared to the number of patients without  heart disease."
   ]
  },
  {
   "cell_type": "code",
   "execution_count": 37,
   "metadata": {},
   "outputs": [
    {
     "data": {
      "image/png": "[encoded data removed]",
      "text/plain": [
       "<Figure size 432x288 with 1 Axes>"
      ]
     },
     "metadata": {
      "needs_background": "light"
     },
     "output_type": "display_data"
    }
   ],
   "source": [
    "# Stacked Bar plot for stroke vs ever_married\n",
    "pd.crosstab(df1['stroke'], \n",
    "            df1['ever_married'], \n",
    "            normalize='index').plot(kind='bar', stacked=True);"
   ]
  },
  {
   "cell_type": "markdown",
   "metadata": {},
   "source": [
    "#### The number of patients who are married has a higher chance to get stroke compared to the number of patients who were not married."
   ]
  },
  {
   "cell_type": "code",
   "execution_count": 38,
   "metadata": {
    "scrolled": true
   },
   "outputs": [
    {
     "data": {
      "image/png": "[encoded data removed]",
      "text/plain": [
       "<Figure size 432x288 with 1 Axes>"
      ]
     },
     "metadata": {
      "needs_background": "light"
     },
     "output_type": "display_data"
    }
   ],
   "source": [
    "# Stacked Bar plot for stroke vs work_type\n",
    "ax = pd.crosstab(df1['stroke'], \n",
    "            df1['work_type'], \n",
    "            normalize='index').plot(kind='bar', stacked=True)\n",
    "ax.legend(loc='upper right', bbox_to_anchor=(1.4, 0.8), shadow=True, ncol=1);"
   ]
  },
  {
   "cell_type": "markdown",
   "metadata": {},
   "source": [
    "#### The number of patients who work for private has a higher chance to get stroke compared to the number of self-employed patients."
   ]
  },
  {
   "cell_type": "code",
   "execution_count": 39,
   "metadata": {
    "scrolled": true
   },
   "outputs": [
    {
     "data": {
      "image/png": "[encoded data removed]",
      "text/plain": [
       "<Figure size 432x288 with 1 Axes>"
      ]
     },
     "metadata": {
      "needs_background": "light"
     },
     "output_type": "display_data"
    }
   ],
   "source": [
    "# Stacked Bar plot for stroke vs Residence_type\n",
    "ax = pd.crosstab(df1['stroke'], \n",
    "            df1['Residence_type'], \n",
    "            normalize='index').plot(kind='bar', stacked=True);\n",
    "ax.legend(loc='upper right', bbox_to_anchor=(1.3, 0.8), shadow=True, ncol=1);"
   ]
  },
  {
   "cell_type": "markdown",
   "metadata": {},
   "source": [
    "#### The chance of getting stroke is almost same for rural and urban patients."
   ]
  },
  {
   "cell_type": "code",
   "execution_count": 40,
   "metadata": {},
   "outputs": [
    {
     "data": {
      "image/png": "[encoded data removed]",
      "text/plain": [
       "<Figure size 432x288 with 1 Axes>"
      ]
     },
     "metadata": {
      "needs_background": "light"
     },
     "output_type": "display_data"
    }
   ],
   "source": [
    "# Stacked Bar plot for stroke vs smoking_status\n",
    "ax = pd.crosstab(df1['stroke'], \n",
    "            df1['smoking_status'], \n",
    "            normalize='index').plot(kind='bar', stacked=True);\n",
    "ax.legend(loc='upper right', bbox_to_anchor=(1.3, 0.8), shadow=True, ncol=1);"
   ]
  },
  {
   "cell_type": "markdown",
   "metadata": {},
   "source": [
    "#### The number of patients who smokes has a higher chance to get a stroke compared to the patients who were never smoked and formerly smoked."
   ]
  },
  {
   "cell_type": "code",
   "execution_count": 41,
   "metadata": {},
   "outputs": [],
   "source": [
    "## Collect numerical variables in a dataframe\n",
    "numerics = ['int16', 'int32', 'int64', 'float16', 'float32', 'float64']\n",
    "\n",
    "numerical_df = df1.select_dtypes(include=numerics)\n",
    "\n",
    "# Remmove the Y variable \n",
    "numerical_df.drop('stroke', axis=1, inplace=True)"
   ]
  },
  {
   "cell_type": "code",
   "execution_count": 42,
   "metadata": {},
   "outputs": [
    {
     "data": {
      "text/html": [
       "<div>\n",
       "<style scoped>\n",
       "    .dataframe tbody tr th:only-of-type {\n",
       "        vertical-align: middle;\n",
       "    }\n",
       "\n",
       "    .dataframe tbody tr th {\n",
       "        vertical-align: top;\n",
       "    }\n",
       "\n",
       "    .dataframe thead th {\n",
       "        text-align: right;\n",
       "    }\n",
       "</style>\n",
       "<table border=\"1\" class=\"dataframe\">\n",
       "  <thead>\n",
       "    <tr style=\"text-align: right;\">\n",
       "      <th></th>\n",
       "      <th>age</th>\n",
       "      <th>avg_glucose_level</th>\n",
       "      <th>bmi</th>\n",
       "    </tr>\n",
       "  </thead>\n",
       "  <tbody>\n",
       "    <tr>\n",
       "      <td>age</td>\n",
       "      <td>1.000000</td>\n",
       "      <td>0.118925</td>\n",
       "      <td>0.085410</td>\n",
       "    </tr>\n",
       "    <tr>\n",
       "      <td>avg_glucose_level</td>\n",
       "      <td>0.118925</td>\n",
       "      <td>1.000000</td>\n",
       "      <td>-0.066337</td>\n",
       "    </tr>\n",
       "    <tr>\n",
       "      <td>bmi</td>\n",
       "      <td>0.085410</td>\n",
       "      <td>-0.066337</td>\n",
       "      <td>1.000000</td>\n",
       "    </tr>\n",
       "  </tbody>\n",
       "</table>\n",
       "</div>"
      ],
      "text/plain": [
       "                        age  avg_glucose_level       bmi\n",
       "age                1.000000           0.118925  0.085410\n",
       "avg_glucose_level  0.118925           1.000000 -0.066337\n",
       "bmi                0.085410          -0.066337  1.000000"
      ]
     },
     "execution_count": 42,
     "metadata": {},
     "output_type": "execute_result"
    }
   ],
   "source": [
    "# Check correlation among numerical independent variables using correlation matrix\n",
    "cor = numerical_df.corr()\n",
    "cor"
   ]
  },
  {
   "cell_type": "code",
   "execution_count": 43,
   "metadata": {},
   "outputs": [
    {
     "data": {
      "image/png": "[encoded data removed]",
      "text/plain": [
       "<Figure size 432x288 with 2 Axes>"
      ]
     },
     "metadata": {
      "needs_background": "light"
     },
     "output_type": "display_data"
    }
   ],
   "source": [
    "# View heat map of the correlation matrix\n",
    "sns.heatmap(cor, annot = True,cmap='Blues');"
   ]
  },
  {
   "cell_type": "code",
   "execution_count": 44,
   "metadata": {},
   "outputs": [
    {
     "data": {
      "text/plain": [
       "avg_glucose_level  age                  0.118925\n",
       "age                avg_glucose_level    0.118925\n",
       "bmi                age                  0.085410\n",
       "age                bmi                  0.085410\n",
       "bmi                avg_glucose_level    0.066337\n",
       "avg_glucose_level  bmi                  0.066337\n",
       "dtype: float64"
      ]
     },
     "execution_count": 44,
     "metadata": {},
     "output_type": "execute_result"
    }
   ],
   "source": [
    "#Highly correlated X variables\n",
    "c = cor.abs()\n",
    "\n",
    "# Unstack the correlation matrix\n",
    "s = c.unstack()\n",
    "\n",
    "#Filter to exclude values of 1\n",
    "s = s[s != 1]\n",
    "\n",
    "# Sort descending to find the highly correlated variables\n",
    "so = s.sort_values(kind=\"quicksort\", ascending=False)[:10]\n",
    "so"
   ]
  },
  {
   "cell_type": "code",
   "execution_count": 45,
   "metadata": {},
   "outputs": [],
   "source": [
    "# Define X and Y variables\n",
    "X = df1.drop('stroke', axis=1)\n",
    "Y = df1[['stroke']]"
   ]
  },
  {
   "cell_type": "code",
   "execution_count": 46,
   "metadata": {},
   "outputs": [],
   "source": [
    "# Convert categorical variables to dummy variables\n",
    "X = pd.get_dummies(X, drop_first=True)"
   ]
  },
  {
   "cell_type": "code",
   "execution_count": 47,
   "metadata": {},
   "outputs": [
    {
     "name": "stdout",
     "output_type": "stream",
     "text": [
      "Optimization terminated successfully.\n",
      "         Current function value: 0.019482\n",
      "         Iterations 15\n"
     ]
    }
   ],
   "source": [
    "# Build the logistic regression model\n",
    "import random\n",
    "random.seed(10)\n",
    "logreg = sm.Logit(Y,sm.add_constant(X))\n",
    "lg =logreg.fit()"
   ]
  },
  {
   "cell_type": "code",
   "execution_count": 48,
   "metadata": {},
   "outputs": [
    {
     "name": "stdout",
     "output_type": "stream",
     "text": [
      "                           Logit Regression Results                           \n",
      "==============================================================================\n",
      "Dep. Variable:                 stroke   No. Observations:                29073\n",
      "Model:                          Logit   Df Residuals:                    29058\n",
      "Method:                           MLE   Df Model:                           14\n",
      "Date:                Wed, 07 Apr 2021   Pseudo R-squ.:                  0.9575\n",
      "Time:                        07:16:19   Log-Likelihood:                -566.39\n",
      "converged:                       True   LL-Null:                       -13332.\n",
      "Covariance Type:            nonrobust   LLR p-value:                     0.000\n",
      "===============================================================================================\n",
      "                                  coef    std err          z      P>|z|      [0.025      0.975]\n",
      "-----------------------------------------------------------------------------------------------\n",
      "const                         -23.1909      1.050    -22.081      0.000     -25.249     -21.132\n",
      "age                            -0.0106      0.006     -1.799      0.072      -0.022       0.001\n",
      "avg_glucose_level               0.1541      0.007     22.820      0.000       0.141       0.167\n",
      "bmi                            -0.0481      0.009     -5.123      0.000      -0.066      -0.030\n",
      "gender_Male                    -0.0475      0.165     -0.288      0.774      -0.371       0.276\n",
      "hypertension_Y                  2.8581      0.218     13.096      0.000       2.430       3.286\n",
      "heart_disease_Y                 3.0383      0.198     15.327      0.000       2.650       3.427\n",
      "ever_married_Yes                0.0794      0.227      0.350      0.726      -0.365       0.524\n",
      "work_type_Never_worked         -5.6252     22.939     -0.245      0.806     -50.584      39.334\n",
      "work_type_Private              -0.0965      0.241     -0.401      0.689      -0.569       0.376\n",
      "work_type_Self-employed        -0.1432      0.290     -0.493      0.622      -0.712       0.426\n",
      "work_type_children             -0.8945      1.111     -0.805      0.421      -3.071       1.282\n",
      "Residence_type_Urban            0.2719      0.163      1.669      0.095      -0.047       0.591\n",
      "smoking_status_never smoked    -0.3398      0.264     -1.285      0.199      -0.858       0.178\n",
      "smoking_status_smokes           3.5262      0.247     14.295      0.000       3.043       4.010\n",
      "===============================================================================================\n",
      "\n",
      "Possibly complete quasi-separation: A fraction 0.68 of observations can be\n",
      "perfectly predicted. This might indicate that there is complete\n",
      "quasi-separation. In this case some parameters will not be identified.\n"
     ]
    }
   ],
   "source": [
    "#Summary of logistic regression\n",
    "print(lg.summary())"
   ]
  },
  {
   "cell_type": "code",
   "execution_count": 49,
   "metadata": {},
   "outputs": [
    {
     "data": {
      "text/html": [
       "<div>\n",
       "<style scoped>\n",
       "    .dataframe tbody tr th:only-of-type {\n",
       "        vertical-align: middle;\n",
       "    }\n",
       "\n",
       "    .dataframe tbody tr th {\n",
       "        vertical-align: top;\n",
       "    }\n",
       "\n",
       "    .dataframe thead th {\n",
       "        text-align: right;\n",
       "    }\n",
       "</style>\n",
       "<table border=\"1\" class=\"dataframe\">\n",
       "  <thead>\n",
       "    <tr style=\"text-align: right;\">\n",
       "      <th></th>\n",
       "      <th>coef</th>\n",
       "      <th>pvalue</th>\n",
       "    </tr>\n",
       "  </thead>\n",
       "  <tbody>\n",
       "    <tr>\n",
       "      <td>smoking_status_smokes</td>\n",
       "      <td>3.526163</td>\n",
       "      <td>0.0</td>\n",
       "    </tr>\n",
       "    <tr>\n",
       "      <td>heart_disease_Y</td>\n",
       "      <td>3.038279</td>\n",
       "      <td>0.0</td>\n",
       "    </tr>\n",
       "    <tr>\n",
       "      <td>hypertension_Y</td>\n",
       "      <td>2.858139</td>\n",
       "      <td>0.0</td>\n",
       "    </tr>\n",
       "    <tr>\n",
       "      <td>avg_glucose_level</td>\n",
       "      <td>0.154140</td>\n",
       "      <td>0.0</td>\n",
       "    </tr>\n",
       "    <tr>\n",
       "      <td>bmi</td>\n",
       "      <td>-0.048061</td>\n",
       "      <td>0.0</td>\n",
       "    </tr>\n",
       "    <tr>\n",
       "      <td>const</td>\n",
       "      <td>-23.190862</td>\n",
       "      <td>0.0</td>\n",
       "    </tr>\n",
       "  </tbody>\n",
       "</table>\n",
       "</div>"
      ],
      "text/plain": [
       "                            coef  pvalue\n",
       "smoking_status_smokes   3.526163     0.0\n",
       "heart_disease_Y         3.038279     0.0\n",
       "hypertension_Y          2.858139     0.0\n",
       "avg_glucose_level       0.154140     0.0\n",
       "bmi                    -0.048061     0.0\n",
       "const                 -23.190862     0.0"
      ]
     },
     "execution_count": 49,
     "metadata": {},
     "output_type": "execute_result"
    }
   ],
   "source": [
    "# Display the co-efficients and p values for each independent variable\n",
    "coeff = pd.DataFrame(lg.params, columns = ['coef'])\n",
    "coeff['pvalue'] = lg.pvalues.round(3)\n",
    "\n",
    "# Sort the data in descending order of coefficients to identify significant X variables\n",
    "coeff.sort_values(by='coef', ascending=False, inplace=True)\n",
    "\n",
    "#Display only significant X variables\n",
    "coeff[coeff['pvalue']<=0.05]"
   ]
  },
  {
   "cell_type": "code",
   "execution_count": 50,
   "metadata": {},
   "outputs": [
    {
     "data": {
      "text/html": [
       "<div>\n",
       "<style scoped>\n",
       "    .dataframe tbody tr th:only-of-type {\n",
       "        vertical-align: middle;\n",
       "    }\n",
       "\n",
       "    .dataframe tbody tr th {\n",
       "        vertical-align: top;\n",
       "    }\n",
       "\n",
       "    .dataframe thead th {\n",
       "        text-align: right;\n",
       "    }\n",
       "</style>\n",
       "<table border=\"1\" class=\"dataframe\">\n",
       "  <thead>\n",
       "    <tr style=\"text-align: right;\">\n",
       "      <th></th>\n",
       "      <th>coef</th>\n",
       "      <th>Odds_ratio</th>\n",
       "    </tr>\n",
       "  </thead>\n",
       "  <tbody>\n",
       "    <tr>\n",
       "      <td>const</td>\n",
       "      <td>-23.190862</td>\n",
       "      <td>8.478841e-11</td>\n",
       "    </tr>\n",
       "    <tr>\n",
       "      <td>age</td>\n",
       "      <td>-0.010571</td>\n",
       "      <td>9.894848e-01</td>\n",
       "    </tr>\n",
       "    <tr>\n",
       "      <td>avg_glucose_level</td>\n",
       "      <td>0.154140</td>\n",
       "      <td>1.166654e+00</td>\n",
       "    </tr>\n",
       "    <tr>\n",
       "      <td>bmi</td>\n",
       "      <td>-0.048061</td>\n",
       "      <td>9.530758e-01</td>\n",
       "    </tr>\n",
       "    <tr>\n",
       "      <td>gender_Male</td>\n",
       "      <td>-0.047502</td>\n",
       "      <td>9.536083e-01</td>\n",
       "    </tr>\n",
       "    <tr>\n",
       "      <td>hypertension_Y</td>\n",
       "      <td>2.858139</td>\n",
       "      <td>1.742907e+01</td>\n",
       "    </tr>\n",
       "    <tr>\n",
       "      <td>heart_disease_Y</td>\n",
       "      <td>3.038279</td>\n",
       "      <td>2.086930e+01</td>\n",
       "    </tr>\n",
       "    <tr>\n",
       "      <td>ever_married_Yes</td>\n",
       "      <td>0.079414</td>\n",
       "      <td>1.082653e+00</td>\n",
       "    </tr>\n",
       "    <tr>\n",
       "      <td>work_type_Never_worked</td>\n",
       "      <td>-5.625172</td>\n",
       "      <td>3.605944e-03</td>\n",
       "    </tr>\n",
       "    <tr>\n",
       "      <td>work_type_Private</td>\n",
       "      <td>-0.096479</td>\n",
       "      <td>9.080291e-01</td>\n",
       "    </tr>\n",
       "    <tr>\n",
       "      <td>work_type_Self-employed</td>\n",
       "      <td>-0.143190</td>\n",
       "      <td>8.665893e-01</td>\n",
       "    </tr>\n",
       "    <tr>\n",
       "      <td>work_type_children</td>\n",
       "      <td>-0.894518</td>\n",
       "      <td>4.088046e-01</td>\n",
       "    </tr>\n",
       "    <tr>\n",
       "      <td>Residence_type_Urban</td>\n",
       "      <td>0.271905</td>\n",
       "      <td>1.312463e+00</td>\n",
       "    </tr>\n",
       "    <tr>\n",
       "      <td>smoking_status_never smoked</td>\n",
       "      <td>-0.339797</td>\n",
       "      <td>7.119145e-01</td>\n",
       "    </tr>\n",
       "    <tr>\n",
       "      <td>smoking_status_smokes</td>\n",
       "      <td>3.526163</td>\n",
       "      <td>3.399328e+01</td>\n",
       "    </tr>\n",
       "  </tbody>\n",
       "</table>\n",
       "</div>"
      ],
      "text/plain": [
       "                                  coef    Odds_ratio\n",
       "const                       -23.190862  8.478841e-11\n",
       "age                          -0.010571  9.894848e-01\n",
       "avg_glucose_level             0.154140  1.166654e+00\n",
       "bmi                          -0.048061  9.530758e-01\n",
       "gender_Male                  -0.047502  9.536083e-01\n",
       "hypertension_Y                2.858139  1.742907e+01\n",
       "heart_disease_Y               3.038279  2.086930e+01\n",
       "ever_married_Yes              0.079414  1.082653e+00\n",
       "work_type_Never_worked       -5.625172  3.605944e-03\n",
       "work_type_Private            -0.096479  9.080291e-01\n",
       "work_type_Self-employed      -0.143190  8.665893e-01\n",
       "work_type_children           -0.894518  4.088046e-01\n",
       "Residence_type_Urban          0.271905  1.312463e+00\n",
       "smoking_status_never smoked  -0.339797  7.119145e-01\n",
       "smoking_status_smokes         3.526163  3.399328e+01"
      ]
     },
     "execution_count": 50,
     "metadata": {},
     "output_type": "execute_result"
    }
   ],
   "source": [
    "# Collect the coef in a dataframe\n",
    "lgcoef = pd.DataFrame(lg.params,columns = ['coef'])\n",
    "\n",
    "# Calculate Odds Ratio\n",
    "lgcoef['Odds_ratio'] = np.exp(lgcoef.coef)\n",
    "lgcoef"
   ]
  },
  {
   "cell_type": "code",
   "execution_count": 51,
   "metadata": {},
   "outputs": [
    {
     "data": {
      "text/html": [
       "<div>\n",
       "<style scoped>\n",
       "    .dataframe tbody tr th:only-of-type {\n",
       "        vertical-align: middle;\n",
       "    }\n",
       "\n",
       "    .dataframe tbody tr th {\n",
       "        vertical-align: top;\n",
       "    }\n",
       "\n",
       "    .dataframe thead th {\n",
       "        text-align: right;\n",
       "    }\n",
       "</style>\n",
       "<table border=\"1\" class=\"dataframe\">\n",
       "  <thead>\n",
       "    <tr style=\"text-align: right;\">\n",
       "      <th></th>\n",
       "      <th>coef</th>\n",
       "      <th>Odds_ratio</th>\n",
       "      <th>probability</th>\n",
       "    </tr>\n",
       "  </thead>\n",
       "  <tbody>\n",
       "    <tr>\n",
       "      <td>const</td>\n",
       "      <td>-23.190862</td>\n",
       "      <td>8.478841e-11</td>\n",
       "      <td>8.478841e-11</td>\n",
       "    </tr>\n",
       "    <tr>\n",
       "      <td>age</td>\n",
       "      <td>-0.010571</td>\n",
       "      <td>9.894848e-01</td>\n",
       "      <td>4.973573e-01</td>\n",
       "    </tr>\n",
       "    <tr>\n",
       "      <td>avg_glucose_level</td>\n",
       "      <td>0.154140</td>\n",
       "      <td>1.166654e+00</td>\n",
       "      <td>5.384588e-01</td>\n",
       "    </tr>\n",
       "    <tr>\n",
       "      <td>bmi</td>\n",
       "      <td>-0.048061</td>\n",
       "      <td>9.530758e-01</td>\n",
       "      <td>4.879871e-01</td>\n",
       "    </tr>\n",
       "    <tr>\n",
       "      <td>gender_Male</td>\n",
       "      <td>-0.047502</td>\n",
       "      <td>9.536083e-01</td>\n",
       "      <td>4.881267e-01</td>\n",
       "    </tr>\n",
       "    <tr>\n",
       "      <td>hypertension_Y</td>\n",
       "      <td>2.858139</td>\n",
       "      <td>1.742907e+01</td>\n",
       "      <td>9.457379e-01</td>\n",
       "    </tr>\n",
       "    <tr>\n",
       "      <td>heart_disease_Y</td>\n",
       "      <td>3.038279</td>\n",
       "      <td>2.086930e+01</td>\n",
       "      <td>9.542738e-01</td>\n",
       "    </tr>\n",
       "    <tr>\n",
       "      <td>ever_married_Yes</td>\n",
       "      <td>0.079414</td>\n",
       "      <td>1.082653e+00</td>\n",
       "      <td>5.198431e-01</td>\n",
       "    </tr>\n",
       "    <tr>\n",
       "      <td>work_type_Never_worked</td>\n",
       "      <td>-5.625172</td>\n",
       "      <td>3.605944e-03</td>\n",
       "      <td>3.592988e-03</td>\n",
       "    </tr>\n",
       "    <tr>\n",
       "      <td>work_type_Private</td>\n",
       "      <td>-0.096479</td>\n",
       "      <td>9.080291e-01</td>\n",
       "      <td>4.758990e-01</td>\n",
       "    </tr>\n",
       "    <tr>\n",
       "      <td>work_type_Self-employed</td>\n",
       "      <td>-0.143190</td>\n",
       "      <td>8.665893e-01</td>\n",
       "      <td>4.642635e-01</td>\n",
       "    </tr>\n",
       "    <tr>\n",
       "      <td>work_type_children</td>\n",
       "      <td>-0.894518</td>\n",
       "      <td>4.088046e-01</td>\n",
       "      <td>2.901783e-01</td>\n",
       "    </tr>\n",
       "    <tr>\n",
       "      <td>Residence_type_Urban</td>\n",
       "      <td>0.271905</td>\n",
       "      <td>1.312463e+00</td>\n",
       "      <td>5.675606e-01</td>\n",
       "    </tr>\n",
       "    <tr>\n",
       "      <td>smoking_status_never smoked</td>\n",
       "      <td>-0.339797</td>\n",
       "      <td>7.119145e-01</td>\n",
       "      <td>4.158587e-01</td>\n",
       "    </tr>\n",
       "    <tr>\n",
       "      <td>smoking_status_smokes</td>\n",
       "      <td>3.526163</td>\n",
       "      <td>3.399328e+01</td>\n",
       "      <td>9.714231e-01</td>\n",
       "    </tr>\n",
       "  </tbody>\n",
       "</table>\n",
       "</div>"
      ],
      "text/plain": [
       "                                  coef    Odds_ratio   probability\n",
       "const                       -23.190862  8.478841e-11  8.478841e-11\n",
       "age                          -0.010571  9.894848e-01  4.973573e-01\n",
       "avg_glucose_level             0.154140  1.166654e+00  5.384588e-01\n",
       "bmi                          -0.048061  9.530758e-01  4.879871e-01\n",
       "gender_Male                  -0.047502  9.536083e-01  4.881267e-01\n",
       "hypertension_Y                2.858139  1.742907e+01  9.457379e-01\n",
       "heart_disease_Y               3.038279  2.086930e+01  9.542738e-01\n",
       "ever_married_Yes              0.079414  1.082653e+00  5.198431e-01\n",
       "work_type_Never_worked       -5.625172  3.605944e-03  3.592988e-03\n",
       "work_type_Private            -0.096479  9.080291e-01  4.758990e-01\n",
       "work_type_Self-employed      -0.143190  8.665893e-01  4.642635e-01\n",
       "work_type_children           -0.894518  4.088046e-01  2.901783e-01\n",
       "Residence_type_Urban          0.271905  1.312463e+00  5.675606e-01\n",
       "smoking_status_never smoked  -0.339797  7.119145e-01  4.158587e-01\n",
       "smoking_status_smokes         3.526163  3.399328e+01  9.714231e-01"
      ]
     },
     "execution_count": 51,
     "metadata": {},
     "output_type": "execute_result"
    }
   ],
   "source": [
    "# Calculate probability\n",
    "lgcoef['probability'] = lgcoef['Odds_ratio']/(1+lgcoef['Odds_ratio'])\n",
    "lgcoef"
   ]
  },
  {
   "cell_type": "code",
   "execution_count": 52,
   "metadata": {},
   "outputs": [
    {
     "data": {
      "text/html": [
       "<div>\n",
       "<style scoped>\n",
       "    .dataframe tbody tr th:only-of-type {\n",
       "        vertical-align: middle;\n",
       "    }\n",
       "\n",
       "    .dataframe tbody tr th {\n",
       "        vertical-align: top;\n",
       "    }\n",
       "\n",
       "    .dataframe thead th {\n",
       "        text-align: right;\n",
       "    }\n",
       "</style>\n",
       "<table border=\"1\" class=\"dataframe\">\n",
       "  <thead>\n",
       "    <tr style=\"text-align: right;\">\n",
       "      <th></th>\n",
       "      <th>coef</th>\n",
       "      <th>Odds_ratio</th>\n",
       "      <th>probability</th>\n",
       "      <th>pval</th>\n",
       "    </tr>\n",
       "  </thead>\n",
       "  <tbody>\n",
       "    <tr>\n",
       "      <td>const</td>\n",
       "      <td>-23.19</td>\n",
       "      <td>0.00</td>\n",
       "      <td>0.00</td>\n",
       "      <td>0.00</td>\n",
       "    </tr>\n",
       "    <tr>\n",
       "      <td>age</td>\n",
       "      <td>-0.01</td>\n",
       "      <td>0.99</td>\n",
       "      <td>0.50</td>\n",
       "      <td>0.07</td>\n",
       "    </tr>\n",
       "    <tr>\n",
       "      <td>avg_glucose_level</td>\n",
       "      <td>0.15</td>\n",
       "      <td>1.17</td>\n",
       "      <td>0.54</td>\n",
       "      <td>0.00</td>\n",
       "    </tr>\n",
       "    <tr>\n",
       "      <td>bmi</td>\n",
       "      <td>-0.05</td>\n",
       "      <td>0.95</td>\n",
       "      <td>0.49</td>\n",
       "      <td>0.00</td>\n",
       "    </tr>\n",
       "    <tr>\n",
       "      <td>gender_Male</td>\n",
       "      <td>-0.05</td>\n",
       "      <td>0.95</td>\n",
       "      <td>0.49</td>\n",
       "      <td>0.77</td>\n",
       "    </tr>\n",
       "    <tr>\n",
       "      <td>hypertension_Y</td>\n",
       "      <td>2.86</td>\n",
       "      <td>17.43</td>\n",
       "      <td>0.95</td>\n",
       "      <td>0.00</td>\n",
       "    </tr>\n",
       "    <tr>\n",
       "      <td>heart_disease_Y</td>\n",
       "      <td>3.04</td>\n",
       "      <td>20.87</td>\n",
       "      <td>0.95</td>\n",
       "      <td>0.00</td>\n",
       "    </tr>\n",
       "    <tr>\n",
       "      <td>ever_married_Yes</td>\n",
       "      <td>0.08</td>\n",
       "      <td>1.08</td>\n",
       "      <td>0.52</td>\n",
       "      <td>0.73</td>\n",
       "    </tr>\n",
       "    <tr>\n",
       "      <td>work_type_Never_worked</td>\n",
       "      <td>-5.63</td>\n",
       "      <td>0.00</td>\n",
       "      <td>0.00</td>\n",
       "      <td>0.81</td>\n",
       "    </tr>\n",
       "    <tr>\n",
       "      <td>work_type_Private</td>\n",
       "      <td>-0.10</td>\n",
       "      <td>0.91</td>\n",
       "      <td>0.48</td>\n",
       "      <td>0.69</td>\n",
       "    </tr>\n",
       "    <tr>\n",
       "      <td>work_type_Self-employed</td>\n",
       "      <td>-0.14</td>\n",
       "      <td>0.87</td>\n",
       "      <td>0.46</td>\n",
       "      <td>0.62</td>\n",
       "    </tr>\n",
       "    <tr>\n",
       "      <td>work_type_children</td>\n",
       "      <td>-0.89</td>\n",
       "      <td>0.41</td>\n",
       "      <td>0.29</td>\n",
       "      <td>0.42</td>\n",
       "    </tr>\n",
       "    <tr>\n",
       "      <td>Residence_type_Urban</td>\n",
       "      <td>0.27</td>\n",
       "      <td>1.31</td>\n",
       "      <td>0.57</td>\n",
       "      <td>0.10</td>\n",
       "    </tr>\n",
       "    <tr>\n",
       "      <td>smoking_status_never smoked</td>\n",
       "      <td>-0.34</td>\n",
       "      <td>0.71</td>\n",
       "      <td>0.42</td>\n",
       "      <td>0.20</td>\n",
       "    </tr>\n",
       "    <tr>\n",
       "      <td>smoking_status_smokes</td>\n",
       "      <td>3.53</td>\n",
       "      <td>33.99</td>\n",
       "      <td>0.97</td>\n",
       "      <td>0.00</td>\n",
       "    </tr>\n",
       "  </tbody>\n",
       "</table>\n",
       "</div>"
      ],
      "text/plain": [
       "                              coef  Odds_ratio  probability  pval\n",
       "const                       -23.19        0.00         0.00  0.00\n",
       "age                          -0.01        0.99         0.50  0.07\n",
       "avg_glucose_level             0.15        1.17         0.54  0.00\n",
       "bmi                          -0.05        0.95         0.49  0.00\n",
       "gender_Male                  -0.05        0.95         0.49  0.77\n",
       "hypertension_Y                2.86       17.43         0.95  0.00\n",
       "heart_disease_Y               3.04       20.87         0.95  0.00\n",
       "ever_married_Yes              0.08        1.08         0.52  0.73\n",
       "work_type_Never_worked       -5.63        0.00         0.00  0.81\n",
       "work_type_Private            -0.10        0.91         0.48  0.69\n",
       "work_type_Self-employed      -0.14        0.87         0.46  0.62\n",
       "work_type_children           -0.89        0.41         0.29  0.42\n",
       "Residence_type_Urban          0.27        1.31         0.57  0.10\n",
       "smoking_status_never smoked  -0.34        0.71         0.42  0.20\n",
       "smoking_status_smokes         3.53       33.99         0.97  0.00"
      ]
     },
     "execution_count": 52,
     "metadata": {},
     "output_type": "execute_result"
    }
   ],
   "source": [
    "# Calculate p value\n",
    "lgcoef['pval'] = lg.pvalues\n",
    "\n",
    "#Display rounded to 2 decimal points\n",
    "pd.options.display.float_format = '{:.2f}'.format\n",
    "lgcoef"
   ]
  },
  {
   "cell_type": "code",
   "execution_count": 53,
   "metadata": {},
   "outputs": [
    {
     "data": {
      "text/html": [
       "<div>\n",
       "<style scoped>\n",
       "    .dataframe tbody tr th:only-of-type {\n",
       "        vertical-align: middle;\n",
       "    }\n",
       "\n",
       "    .dataframe tbody tr th {\n",
       "        vertical-align: top;\n",
       "    }\n",
       "\n",
       "    .dataframe thead th {\n",
       "        text-align: right;\n",
       "    }\n",
       "</style>\n",
       "<table border=\"1\" class=\"dataframe\">\n",
       "  <thead>\n",
       "    <tr style=\"text-align: right;\">\n",
       "      <th></th>\n",
       "      <th>coef</th>\n",
       "      <th>Odds_ratio</th>\n",
       "      <th>probability</th>\n",
       "      <th>pval</th>\n",
       "    </tr>\n",
       "  </thead>\n",
       "  <tbody>\n",
       "    <tr>\n",
       "      <td>const</td>\n",
       "      <td>-23.19</td>\n",
       "      <td>0.00</td>\n",
       "      <td>0.00</td>\n",
       "      <td>0.00</td>\n",
       "    </tr>\n",
       "    <tr>\n",
       "      <td>age</td>\n",
       "      <td>-0.01</td>\n",
       "      <td>0.99</td>\n",
       "      <td>0.50</td>\n",
       "      <td>0.07</td>\n",
       "    </tr>\n",
       "    <tr>\n",
       "      <td>avg_glucose_level</td>\n",
       "      <td>0.15</td>\n",
       "      <td>1.17</td>\n",
       "      <td>0.54</td>\n",
       "      <td>0.00</td>\n",
       "    </tr>\n",
       "    <tr>\n",
       "      <td>bmi</td>\n",
       "      <td>-0.05</td>\n",
       "      <td>0.95</td>\n",
       "      <td>0.49</td>\n",
       "      <td>0.00</td>\n",
       "    </tr>\n",
       "    <tr>\n",
       "      <td>gender_Male</td>\n",
       "      <td>-0.05</td>\n",
       "      <td>0.95</td>\n",
       "      <td>0.49</td>\n",
       "      <td>0.77</td>\n",
       "    </tr>\n",
       "    <tr>\n",
       "      <td>hypertension_Y</td>\n",
       "      <td>2.86</td>\n",
       "      <td>17.43</td>\n",
       "      <td>0.95</td>\n",
       "      <td>0.00</td>\n",
       "    </tr>\n",
       "    <tr>\n",
       "      <td>heart_disease_Y</td>\n",
       "      <td>3.04</td>\n",
       "      <td>20.87</td>\n",
       "      <td>0.95</td>\n",
       "      <td>0.00</td>\n",
       "    </tr>\n",
       "    <tr>\n",
       "      <td>ever_married_Yes</td>\n",
       "      <td>0.08</td>\n",
       "      <td>1.08</td>\n",
       "      <td>0.52</td>\n",
       "      <td>0.73</td>\n",
       "    </tr>\n",
       "    <tr>\n",
       "      <td>work_type_Never_worked</td>\n",
       "      <td>-5.63</td>\n",
       "      <td>0.00</td>\n",
       "      <td>0.00</td>\n",
       "      <td>0.81</td>\n",
       "    </tr>\n",
       "    <tr>\n",
       "      <td>work_type_Private</td>\n",
       "      <td>-0.10</td>\n",
       "      <td>0.91</td>\n",
       "      <td>0.48</td>\n",
       "      <td>0.69</td>\n",
       "    </tr>\n",
       "    <tr>\n",
       "      <td>work_type_Self-employed</td>\n",
       "      <td>-0.14</td>\n",
       "      <td>0.87</td>\n",
       "      <td>0.46</td>\n",
       "      <td>0.62</td>\n",
       "    </tr>\n",
       "    <tr>\n",
       "      <td>work_type_children</td>\n",
       "      <td>-0.89</td>\n",
       "      <td>0.41</td>\n",
       "      <td>0.29</td>\n",
       "      <td>0.42</td>\n",
       "    </tr>\n",
       "    <tr>\n",
       "      <td>Residence_type_Urban</td>\n",
       "      <td>0.27</td>\n",
       "      <td>1.31</td>\n",
       "      <td>0.57</td>\n",
       "      <td>0.10</td>\n",
       "    </tr>\n",
       "    <tr>\n",
       "      <td>smoking_status_never smoked</td>\n",
       "      <td>-0.34</td>\n",
       "      <td>0.71</td>\n",
       "      <td>0.42</td>\n",
       "      <td>0.20</td>\n",
       "    </tr>\n",
       "    <tr>\n",
       "      <td>smoking_status_smokes</td>\n",
       "      <td>3.53</td>\n",
       "      <td>33.99</td>\n",
       "      <td>0.97</td>\n",
       "      <td>0.00</td>\n",
       "    </tr>\n",
       "  </tbody>\n",
       "</table>\n",
       "</div>"
      ],
      "text/plain": [
       "                              coef  Odds_ratio  probability  pval\n",
       "const                       -23.19        0.00         0.00  0.00\n",
       "age                          -0.01        0.99         0.50  0.07\n",
       "avg_glucose_level             0.15        1.17         0.54  0.00\n",
       "bmi                          -0.05        0.95         0.49  0.00\n",
       "gender_Male                  -0.05        0.95         0.49  0.77\n",
       "hypertension_Y                2.86       17.43         0.95  0.00\n",
       "heart_disease_Y               3.04       20.87         0.95  0.00\n",
       "ever_married_Yes              0.08        1.08         0.52  0.73\n",
       "work_type_Never_worked       -5.63        0.00         0.00  0.81\n",
       "work_type_Private            -0.10        0.91         0.48  0.69\n",
       "work_type_Self-employed      -0.14        0.87         0.46  0.62\n",
       "work_type_children           -0.89        0.41         0.29  0.42\n",
       "Residence_type_Urban          0.27        1.31         0.57  0.10\n",
       "smoking_status_never smoked  -0.34        0.71         0.42  0.20\n",
       "smoking_status_smokes         3.53       33.99         0.97  0.00"
      ]
     },
     "execution_count": 53,
     "metadata": {},
     "output_type": "execute_result"
    }
   ],
   "source": [
    "# Calculate p value\n",
    "lgcoef['pval'] = lg.pvalues\n",
    "\n",
    "#Display rounded to 2 decimal points\n",
    "pd.options.display.float_format = '{:.2f}'.format\n",
    "lgcoef"
   ]
  },
  {
   "cell_type": "code",
   "execution_count": 54,
   "metadata": {},
   "outputs": [
    {
     "data": {
      "text/html": [
       "<div>\n",
       "<style scoped>\n",
       "    .dataframe tbody tr th:only-of-type {\n",
       "        vertical-align: middle;\n",
       "    }\n",
       "\n",
       "    .dataframe tbody tr th {\n",
       "        vertical-align: top;\n",
       "    }\n",
       "\n",
       "    .dataframe thead th {\n",
       "        text-align: right;\n",
       "    }\n",
       "</style>\n",
       "<table border=\"1\" class=\"dataframe\">\n",
       "  <thead>\n",
       "    <tr style=\"text-align: right;\">\n",
       "      <th></th>\n",
       "      <th>coef</th>\n",
       "      <th>Odds_ratio</th>\n",
       "      <th>probability</th>\n",
       "      <th>pval</th>\n",
       "    </tr>\n",
       "  </thead>\n",
       "  <tbody>\n",
       "    <tr>\n",
       "      <td>smoking_status_smokes</td>\n",
       "      <td>3.53</td>\n",
       "      <td>33.99</td>\n",
       "      <td>0.97</td>\n",
       "      <td>0.00</td>\n",
       "    </tr>\n",
       "    <tr>\n",
       "      <td>heart_disease_Y</td>\n",
       "      <td>3.04</td>\n",
       "      <td>20.87</td>\n",
       "      <td>0.95</td>\n",
       "      <td>0.00</td>\n",
       "    </tr>\n",
       "    <tr>\n",
       "      <td>hypertension_Y</td>\n",
       "      <td>2.86</td>\n",
       "      <td>17.43</td>\n",
       "      <td>0.95</td>\n",
       "      <td>0.00</td>\n",
       "    </tr>\n",
       "    <tr>\n",
       "      <td>avg_glucose_level</td>\n",
       "      <td>0.15</td>\n",
       "      <td>1.17</td>\n",
       "      <td>0.54</td>\n",
       "      <td>0.00</td>\n",
       "    </tr>\n",
       "    <tr>\n",
       "      <td>bmi</td>\n",
       "      <td>-0.05</td>\n",
       "      <td>0.95</td>\n",
       "      <td>0.49</td>\n",
       "      <td>0.00</td>\n",
       "    </tr>\n",
       "    <tr>\n",
       "      <td>const</td>\n",
       "      <td>-23.19</td>\n",
       "      <td>0.00</td>\n",
       "      <td>0.00</td>\n",
       "      <td>0.00</td>\n",
       "    </tr>\n",
       "  </tbody>\n",
       "</table>\n",
       "</div>"
      ],
      "text/plain": [
       "                        coef  Odds_ratio  probability  pval\n",
       "smoking_status_smokes   3.53       33.99         0.97  0.00\n",
       "heart_disease_Y         3.04       20.87         0.95  0.00\n",
       "hypertension_Y          2.86       17.43         0.95  0.00\n",
       "avg_glucose_level       0.15        1.17         0.54  0.00\n",
       "bmi                    -0.05        0.95         0.49  0.00\n",
       "const                 -23.19        0.00         0.00  0.00"
      ]
     },
     "execution_count": 54,
     "metadata": {},
     "output_type": "execute_result"
    }
   ],
   "source": [
    "# Sort by descending order of odds_ratio\n",
    "lgcoef = lgcoef.sort_values(by = 'Odds_ratio', ascending =  False)\n",
    "\n",
    "# Filter to display only variables with significant p value\n",
    "pval_filter = lgcoef['pval'] <= 0.05\n",
    "lgcoef[pval_filter]"
   ]
  },
  {
   "cell_type": "markdown",
   "metadata": {},
   "source": [
    "## Predictions & model evaluation"
   ]
  },
  {
   "cell_type": "code",
   "execution_count": 55,
   "metadata": {},
   "outputs": [
    {
     "data": {
      "text/plain": [
       "LogisticRegression(C=1.0, class_weight=None, dual=False, fit_intercept=True,\n",
       "                   intercept_scaling=1, l1_ratio=None, max_iter=100,\n",
       "                   multi_class='warn', n_jobs=None, penalty='l2',\n",
       "                   random_state=None, solver='warn', tol=0.0001, verbose=0,\n",
       "                   warm_start=False)"
      ]
     },
     "execution_count": 55,
     "metadata": {},
     "output_type": "execute_result"
    }
   ],
   "source": [
    "## Logistic Regression using sklearn\n",
    "logreg = LogisticRegression()\n",
    "logreg.fit(X,Y)"
   ]
  },
  {
   "cell_type": "code",
   "execution_count": 56,
   "metadata": {},
   "outputs": [
    {
     "data": {
      "text/plain": [
       "array([[-0.02328958,  0.10610118, -0.06788296, -0.09247348,  2.45899436,\n",
       "         2.62177374, -0.02680098, -0.41964103, -0.48913872, -0.37209725,\n",
       "        -1.56532637,  0.0561619 , -0.81535357,  2.40152822]])"
      ]
     },
     "execution_count": 56,
     "metadata": {},
     "output_type": "execute_result"
    }
   ],
   "source": [
    "logreg.coef_"
   ]
  },
  {
   "cell_type": "code",
   "execution_count": 57,
   "metadata": {},
   "outputs": [
    {
     "data": {
      "text/plain": [
       "array([1, 0, 0, 0, 1, 0, 0, 0, 0], dtype=int64)"
      ]
     },
     "execution_count": 57,
     "metadata": {},
     "output_type": "execute_result"
    }
   ],
   "source": [
    "#Predict Y class\n",
    "Y_pred = logreg.predict(X)\n",
    "Y_pred[1:10]"
   ]
  },
  {
   "cell_type": "code",
   "execution_count": 58,
   "metadata": {},
   "outputs": [
    {
     "data": {
      "text/plain": [
       "array([[9.9962e-01, 3.8000e-04],\n",
       "       [5.0000e-05, 9.9995e-01],\n",
       "       [9.9999e-01, 1.0000e-05],\n",
       "       [9.9985e-01, 1.5000e-04],\n",
       "       [9.9569e-01, 4.3100e-03],\n",
       "       [0.0000e+00, 1.0000e+00],\n",
       "       [9.9924e-01, 7.6000e-04],\n",
       "       [9.9992e-01, 8.0000e-05],\n",
       "       [9.9964e-01, 3.6000e-04],\n",
       "       [9.9993e-01, 7.0000e-05]])"
      ]
     },
     "execution_count": 58,
     "metadata": {},
     "output_type": "execute_result"
    }
   ],
   "source": [
    "#Predict Y probability\n",
    "Y_pred_prob = logreg.predict_proba(X)\n",
    "Y_pred_prob[:10].round(5)"
   ]
  },
  {
   "cell_type": "code",
   "execution_count": 59,
   "metadata": {},
   "outputs": [
    {
     "data": {
      "text/html": [
       "<div>\n",
       "<style scoped>\n",
       "    .dataframe tbody tr th:only-of-type {\n",
       "        vertical-align: middle;\n",
       "    }\n",
       "\n",
       "    .dataframe tbody tr th {\n",
       "        vertical-align: top;\n",
       "    }\n",
       "\n",
       "    .dataframe thead th {\n",
       "        text-align: right;\n",
       "    }\n",
       "</style>\n",
       "<table border=\"1\" class=\"dataframe\">\n",
       "  <thead>\n",
       "    <tr style=\"text-align: right;\">\n",
       "      <th></th>\n",
       "      <th>gender</th>\n",
       "      <th>age</th>\n",
       "      <th>hypertension</th>\n",
       "      <th>heart_disease</th>\n",
       "      <th>ever_married</th>\n",
       "      <th>work_type</th>\n",
       "      <th>Residence_type</th>\n",
       "      <th>avg_glucose_level</th>\n",
       "      <th>bmi</th>\n",
       "      <th>smoking_status</th>\n",
       "      <th>stroke</th>\n",
       "      <th>pred_prob</th>\n",
       "    </tr>\n",
       "  </thead>\n",
       "  <tbody>\n",
       "    <tr>\n",
       "      <td>0</td>\n",
       "      <td>Male</td>\n",
       "      <td>3</td>\n",
       "      <td>N</td>\n",
       "      <td>N</td>\n",
       "      <td>No</td>\n",
       "      <td>children</td>\n",
       "      <td>Rural</td>\n",
       "      <td>95.12</td>\n",
       "      <td>18.00</td>\n",
       "      <td>never smoked</td>\n",
       "      <td>0</td>\n",
       "      <td>0.00</td>\n",
       "    </tr>\n",
       "    <tr>\n",
       "      <td>1</td>\n",
       "      <td>Male</td>\n",
       "      <td>58</td>\n",
       "      <td>Y</td>\n",
       "      <td>N</td>\n",
       "      <td>Yes</td>\n",
       "      <td>Private</td>\n",
       "      <td>Urban</td>\n",
       "      <td>255.00</td>\n",
       "      <td>39.20</td>\n",
       "      <td>never smoked</td>\n",
       "      <td>1</td>\n",
       "      <td>1.00</td>\n",
       "    </tr>\n",
       "    <tr>\n",
       "      <td>2</td>\n",
       "      <td>Female</td>\n",
       "      <td>70</td>\n",
       "      <td>N</td>\n",
       "      <td>N</td>\n",
       "      <td>Yes</td>\n",
       "      <td>Private</td>\n",
       "      <td>Rural</td>\n",
       "      <td>69.04</td>\n",
       "      <td>35.90</td>\n",
       "      <td>formerly smoked</td>\n",
       "      <td>0</td>\n",
       "      <td>0.00</td>\n",
       "    </tr>\n",
       "    <tr>\n",
       "      <td>3</td>\n",
       "      <td>Female</td>\n",
       "      <td>52</td>\n",
       "      <td>N</td>\n",
       "      <td>N</td>\n",
       "      <td>Yes</td>\n",
       "      <td>Private</td>\n",
       "      <td>Urban</td>\n",
       "      <td>77.59</td>\n",
       "      <td>17.70</td>\n",
       "      <td>formerly smoked</td>\n",
       "      <td>0</td>\n",
       "      <td>0.00</td>\n",
       "    </tr>\n",
       "    <tr>\n",
       "      <td>4</td>\n",
       "      <td>Female</td>\n",
       "      <td>75</td>\n",
       "      <td>N</td>\n",
       "      <td>Y</td>\n",
       "      <td>Yes</td>\n",
       "      <td>Self-employed</td>\n",
       "      <td>Rural</td>\n",
       "      <td>103.00</td>\n",
       "      <td>27.00</td>\n",
       "      <td>never smoked</td>\n",
       "      <td>0</td>\n",
       "      <td>0.00</td>\n",
       "    </tr>\n",
       "  </tbody>\n",
       "</table>\n",
       "</div>"
      ],
      "text/plain": [
       "   gender  age hypertension heart_disease ever_married      work_type  \\\n",
       "0    Male    3            N             N           No       children   \n",
       "1    Male   58            Y             N          Yes        Private   \n",
       "2  Female   70            N             N          Yes        Private   \n",
       "3  Female   52            N             N          Yes        Private   \n",
       "4  Female   75            N             Y          Yes  Self-employed   \n",
       "\n",
       "  Residence_type  avg_glucose_level   bmi   smoking_status  stroke  pred_prob  \n",
       "0          Rural              95.12 18.00     never smoked       0       0.00  \n",
       "1          Urban             255.00 39.20     never smoked       1       1.00  \n",
       "2          Rural              69.04 35.90  formerly smoked       0       0.00  \n",
       "3          Urban              77.59 17.70  formerly smoked       0       0.00  \n",
       "4          Rural             103.00 27.00     never smoked       0       0.00  "
      ]
     },
     "execution_count": 59,
     "metadata": {},
     "output_type": "execute_result"
    }
   ],
   "source": [
    "# Append Y_pred_prob to original df and write a csv file for analysis\n",
    "df1['pred_prob'] = Y_pred_prob[:,1]\n",
    "df1.head()"
   ]
  },
  {
   "cell_type": "code",
   "execution_count": 60,
   "metadata": {},
   "outputs": [],
   "source": [
    "df1.to_csv('Predicted_data_Stroke.csv')"
   ]
  },
  {
   "cell_type": "code",
   "execution_count": 61,
   "metadata": {},
   "outputs": [],
   "source": [
    "#Build the confusion matrix\n",
    "from sklearn.metrics import confusion_matrix, accuracy_score, precision_score, recall_score, classification_report"
   ]
  },
  {
   "cell_type": "code",
   "execution_count": 62,
   "metadata": {
    "scrolled": true
   },
   "outputs": [
    {
     "data": {
      "text/plain": [
       "array([[24031,    50],\n",
       "       [  180,  4812]], dtype=int64)"
      ]
     },
     "execution_count": 62,
     "metadata": {},
     "output_type": "execute_result"
    }
   ],
   "source": [
    "confusion_matrix(Y,Y_pred)"
   ]
  },
  {
   "cell_type": "code",
   "execution_count": 63,
   "metadata": {},
   "outputs": [
    {
     "data": {
      "text/plain": [
       "0.9920888797165756"
      ]
     },
     "execution_count": 63,
     "metadata": {},
     "output_type": "execute_result"
    }
   ],
   "source": [
    "accuracy_score(Y,Y_pred)"
   ]
  },
  {
   "cell_type": "code",
   "execution_count": 64,
   "metadata": {},
   "outputs": [
    {
     "data": {
      "text/plain": [
       "0.9639423076923077"
      ]
     },
     "execution_count": 64,
     "metadata": {},
     "output_type": "execute_result"
    }
   ],
   "source": [
    "recall_score(Y,Y_pred)"
   ]
  },
  {
   "cell_type": "code",
   "execution_count": 65,
   "metadata": {},
   "outputs": [
    {
     "data": {
      "text/plain": [
       "0.9897161661867544"
      ]
     },
     "execution_count": 65,
     "metadata": {},
     "output_type": "execute_result"
    }
   ],
   "source": [
    "precision_score(Y,Y_pred)"
   ]
  },
  {
   "cell_type": "code",
   "execution_count": 66,
   "metadata": {},
   "outputs": [
    {
     "name": "stdout",
     "output_type": "stream",
     "text": [
      "              precision    recall  f1-score   support\n",
      "\n",
      "           0       0.99      1.00      1.00     24081\n",
      "           1       0.99      0.96      0.98      4992\n",
      "\n",
      "    accuracy                           0.99     29073\n",
      "   macro avg       0.99      0.98      0.99     29073\n",
      "weighted avg       0.99      0.99      0.99     29073\n",
      "\n"
     ]
    }
   ],
   "source": [
    "print(classification_report(Y,Y_pred))"
   ]
  },
  {
   "cell_type": "code",
   "execution_count": 67,
   "metadata": {},
   "outputs": [
    {
     "data": {
      "text/plain": [
       "0.9809329909791632"
      ]
     },
     "execution_count": 67,
     "metadata": {},
     "output_type": "execute_result"
    }
   ],
   "source": [
    "#AUC Value\n",
    "from sklearn.metrics import roc_auc_score\n",
    "from sklearn.metrics import roc_curve\n",
    "\n",
    "logit_roc_auc = roc_auc_score(Y,Y_pred)\n",
    "logit_roc_auc"
   ]
  },
  {
   "cell_type": "code",
   "execution_count": 68,
   "metadata": {},
   "outputs": [
    {
     "data": {
      "text/plain": [
       "(0.0, 1.05)"
      ]
     },
     "execution_count": 68,
     "metadata": {},
     "output_type": "execute_result"
    },
    {
     "data": {
      "image/png": "[encoded data removed]",
      "text/plain": [
       "<Figure size 432x288 with 1 Axes>"
      ]
     },
     "metadata": {
      "needs_background": "light"
     },
     "output_type": "display_data"
    }
   ],
   "source": [
    "#Plotting the ROC Curve\n",
    "fpr, tpr, threshold = roc_curve(Y,Y_pred_prob[:,1])\n",
    "plt.plot(fpr,tpr)\n",
    "plt.plot([0, 1], [0, 1],'r--')\n",
    "plt.xlim([0.0, 1.0])\n",
    "plt.ylim([0.0, 1.05])"
   ]
  },
  {
   "cell_type": "markdown",
   "metadata": {},
   "source": [
    "## Optimizing Cutoff Value"
   ]
  },
  {
   "cell_type": "code",
   "execution_count": 69,
   "metadata": {},
   "outputs": [
    {
     "name": "stdout",
     "output_type": "stream",
     "text": [
      "\n",
      "******** For i = 0.2 ******\n",
      "Our testing recall is 0.98\n",
      "Our Accuracy score is 0.99\n",
      "Our Precision score is 0.96\n",
      "\n",
      "******** For i = 0.8 ******\n",
      "Our testing recall is 0.94\n",
      "Our Accuracy score is 0.97\n",
      "Our Precision score is 1.00\n"
     ]
    }
   ],
   "source": [
    "# Predict the probability value for X\n",
    "pred_proba_df = pd.DataFrame(Y_pred_prob)\n",
    "\n",
    "# Use Cut-off value to predict the recall_score and accuracy_score.\n",
    "cutoff_list = [0.2,0.8]\n",
    "for i in cutoff_list:\n",
    "    print ('\\n******** For i = {} ******'.format(i))\n",
    "    y_pred_prob = pd.DataFrame(np.where(pred_proba_df[pred_proba_df.columns] > i, 1, 0))\n",
    "    test_recall_score = metrics.recall_score(Y.to_numpy(),y_pred_prob.iloc[:,1])\n",
    "    test_acu_score = metrics.roc_auc_score(Y.to_numpy(),y_pred_prob.iloc[:,1])\n",
    "    test_precision_score = metrics.precision_score(Y.to_numpy(),y_pred_prob.iloc[:,1])\n",
    "    print('Our testing recall is {:.2f}'.format(test_recall_score))\n",
    "    print('Our Accuracy score is {:.2f}'.format(test_acu_score))\n",
    "    print('Our Precision score is {:.2f}'.format(test_precision_score))"
   ]
  }
 ],
 "metadata": {
  "kernelspec": {
   "display_name": "Python 3",
   "language": "python",
   "name": "python3"
  },
  "language_info": {
   "codemirror_mode": {
    "name": "ipython",
    "version": 3
   },
   "file_extension": ".py",
   "mimetype": "text/x-python",
   "name": "python",
   "nbconvert_exporter": "python",
   "pygments_lexer": "ipython3",
   "version": "3.7.4"
  }
 },
 "nbformat": 4,
 "nbformat_minor": 2
}
